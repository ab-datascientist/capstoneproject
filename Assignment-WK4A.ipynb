{
    "nbformat_minor": 1, 
    "cells": [
        {
            "source": "  <!-- /\\* Font Definitions \\*/ @font-face {font-family:Wingdings; panose-1:5 0 0 0 0 0 0 0 0 0;} @font-face {font-family:Mangal; panose-1:0 0 4 0 0 0 0 0 0 0;} @font-face {font-family:\"Cambria Math\"; panose-1:2 4 5 3 5 4 6 3 2 4;} @font-face {font-family:Calibri; panose-1:2 15 5 2 2 2 4 3 2 4;} @font-face {font-family:\"Segoe UI Historic\"; panose-1:2 11 5 2 4 2 4 2 2 3;} /\\* Style Definitions \\*/ p.MsoNormal, li.MsoNormal, div.MsoNormal {margin-top:0in; margin-right:0in; margin-bottom:8.0pt; margin-left:0in; line-height:105%; font-size:11.0pt; font-family:\"Calibri\",sans-serif;} p.MsoNoSpacing, li.MsoNoSpacing, div.MsoNoSpacing {margin:0in; margin-bottom:.0001pt; font-size:11.0pt; font-family:\"Calibri\",sans-serif;} p.MsoListParagraph, li.MsoListParagraph, div.MsoListParagraph {margin-top:0in; margin-right:0in; margin-bottom:8.0pt; margin-left:.5in; line-height:105%; font-size:11.0pt; font-family:\"Calibri\",sans-serif;} p.MsoListParagraphCxSpFirst, li.MsoListParagraphCxSpFirst, div.MsoListParagraphCxSpFirst {margin-top:0in; margin-right:0in; margin-bottom:0in; margin-left:.5in; margin-bottom:.0001pt; line-height:105%; font-size:11.0pt; font-family:\"Calibri\",sans-serif;} p.MsoListParagraphCxSpMiddle, li.MsoListParagraphCxSpMiddle, div.MsoListParagraphCxSpMiddle {margin-top:0in; margin-right:0in; margin-bottom:0in; margin-left:.5in; margin-bottom:.0001pt; line-height:105%; font-size:11.0pt; font-family:\"Calibri\",sans-serif;} p.MsoListParagraphCxSpLast, li.MsoListParagraphCxSpLast, div.MsoListParagraphCxSpLast {margin-top:0in; margin-right:0in; margin-bottom:8.0pt; margin-left:.5in; line-height:105%; font-size:11.0pt; font-family:\"Calibri\",sans-serif;} .MsoChpDefault {font-family:\"Calibri\",sans-serif;} .MsoPapDefault {margin-bottom:8.0pt; line-height:107%;} @page WordSection1 {size:8.5in 11.0in; margin:1.0in 1.0in 1.0in 1.0in;} div.WordSection1 {page:WordSection1;} /\\* List Definitions \\*/ ol {margin-bottom:0in;} ul {margin-bottom:0in;} --> \n\n![](Assignment-WK4A_files/image001.png)\n\n# Crime Coded Venues\n### Look before you head to your favorite venue\n\nPublished on February 27, 2019 by **Abhishek Bhansali**\n\n**Table of contents**\n\n1. Introduction: Problem\n2. Data\n    * Data Sources\n    * Feature Selection\n    * Data Cleaning \n3. Methodology\n4. Analysis\n5. Results and Discussion\n6. Conclusion\n\n**1.** **Introduction: Problem**\n\nThe question that we are trying to answer here is: How safe are we when we visit one of the popular venues in Boston, MA? The answer to this question can not only help individuals secure their personal safety but also help them in being better prepared to face an unforeseen unfortunate event. But beyond this obvious benefit, the answers to this question can also help in identifying the concentration of types of crimes around venues and this in turn can be utilized by law enforcement agencies in evolving an effective strategy to curb crimes. In addition the business owners of such venues can utilize the information to devise better business strategies by exactly knowing what types of crimes occur around them more frequently.", 
            "cell_type": "markdown", 
            "metadata": {
                "collapsed": true
            }
        }, 
        {
            "source": "", 
            "cell_type": "code", 
            "metadata": {}, 
            "outputs": [], 
            "execution_count": null
        }
    ], 
    "metadata": {
        "kernelspec": {
            "display_name": "Python 3.5", 
            "name": "python3", 
            "language": "python"
        }, 
        "language_info": {
            "mimetype": "text/x-python", 
            "nbconvert_exporter": "python", 
            "version": "3.5.5", 
            "name": "python", 
            "file_extension": ".py", 
            "pygments_lexer": "ipython3", 
            "codemirror_mode": {
                "version": 3, 
                "name": "ipython"
            }
        }
    }, 
    "nbformat": 4
}